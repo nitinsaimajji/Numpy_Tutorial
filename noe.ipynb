{
  "nbformat": 4,
  "nbformat_minor": 0,
  "metadata": {
    "colab": {
      "provenance": [],
      "collapsed_sections": [],
      "authorship_tag": "ABX9TyNwqFr6dDazDkJKEHUBPRGl",
      "include_colab_link": true
    },
    "kernelspec": {
      "name": "python3",
      "display_name": "Python 3"
    },
    "language_info": {
      "name": "python"
    }
  },
  "cells": [
    {
      "cell_type": "markdown",
      "metadata": {
        "id": "view-in-github",
        "colab_type": "text"
      },
      "source": [
        "<a href=\"https://colab.research.google.com/github/nitinsaimajji/Numpy_Tutorial/blob/main/noe.ipynb\" target=\"_parent\"><img src=\"https://colab.research.google.com/assets/colab-badge.svg\" alt=\"Open In Colab\"/></a>"
      ]
    },
    {
      "cell_type": "code",
      "execution_count": null,
      "metadata": {
        "id": "HPTJLsa286FJ"
      },
      "outputs": [],
      "source": [
        "import pandas as pd\n",
        "import numpy as np\n",
        "import matplotlib.pyplot as plt\n",
        "import sklearn as sk"
      ]
    },
    {
      "cell_type": "code",
      "source": [
        "df=pd.read_csv(\"diamond.csv\")"
      ],
      "metadata": {
        "id": "mRuf-P4U9ItZ"
      },
      "execution_count": null,
      "outputs": []
    },
    {
      "cell_type": "code",
      "source": [
        "df"
      ],
      "metadata": {
        "id": "Ras62Pjr9PLg"
      },
      "execution_count": null,
      "outputs": []
    },
    {
      "cell_type": "code",
      "source": [
        "## 2. Write a program to filter the DataFrame rows to only show carat weight at least 0.3"
      ],
      "metadata": {
        "id": "y3E4bl379QFo"
      },
      "execution_count": null,
      "outputs": []
    },
    {
      "cell_type": "code",
      "source": [
        "df1=df.loc[df['carat']<=0.3]\n",
        "df1"
      ],
      "metadata": {
        "id": "5P6hDEHO9XPY"
      },
      "execution_count": null,
      "outputs": []
    },
    {
      "cell_type": "code",
      "source": [
        "## 3. find the diamonds that are either Premium or Ideal"
      ],
      "metadata": {
        "id": "H_oUU9M-9lsp"
      },
      "execution_count": null,
      "outputs": []
    },
    {
      "cell_type": "code",
      "source": [
        "df1 = df[(df['cut'] == 'Premium') | (df['cut']=='Ideal')]\n",
        "df1"
      ],
      "metadata": {
        "id": "16i3uTjh-DWO"
      },
      "execution_count": null,
      "outputs": []
    },
    {
      "cell_type": "code",
      "source": [
        "## 4 . calculate the mean of each numeric column of diamonds DataFrame"
      ],
      "metadata": {
        "id": "pQ49FW68_XGv"
      },
      "execution_count": null,
      "outputs": []
    },
    {
      "cell_type": "code",
      "source": [
        "\n",
        "cols=['carat','depth','price','table','x','y','z']\n",
        "\n",
        "for i in cols:\n",
        "  print(df[i].mean())"
      ],
      "metadata": {
        "id": "vMwwPOpG_wIm"
      },
      "execution_count": null,
      "outputs": []
    },
    {
      "cell_type": "code",
      "source": [
        "## 6. calculate count, minimum, maximum price for each cut of diamonds DataFrame"
      ],
      "metadata": {
        "id": "ON-3lHDkHzo4"
      },
      "execution_count": null,
      "outputs": []
    },
    {
      "cell_type": "code",
      "source": [
        "groupby=df.groupby('cut')\n",
        "for cut,group in groupby:\n",
        "    print(\"count=\",group.shape[0])"
      ],
      "metadata": {
        "id": "4oQA4f_AIgUh"
      },
      "execution_count": null,
      "outputs": []
    },
    {
      "cell_type": "code",
      "source": [
        "## 7 .\tdisplay rows 0, 5, 7 and all columns of diamonds DataFrame"
      ],
      "metadata": {
        "id": "JzHOPOYGIt-h"
      },
      "execution_count": null,
      "outputs": []
    },
    {
      "cell_type": "code",
      "source": [
        "result=df.iloc[[0,5,7]] \n",
        "result"
      ],
      "metadata": {
        "id": "7lgSdJ8ewt0O"
      },
      "execution_count": null,
      "outputs": []
    },
    {
      "cell_type": "code",
      "source": [
        "## 8. display rows 2 through 5 and all columns of diamonds DataFrame"
      ],
      "metadata": {
        "id": "Afq7HyO2xNtg"
      },
      "execution_count": null,
      "outputs": []
    },
    {
      "cell_type": "code",
      "source": [
        "result=df.iloc[2:5] \n",
        "result"
      ],
      "metadata": {
        "id": "Nl5oFEp6xdtX"
      },
      "execution_count": null,
      "outputs": []
    },
    {
      "cell_type": "code",
      "source": [
        "## 9.\tDisplay rows 0 through 2 (inclusive), columns 'color' and 'price' of diamonds DataFrame."
      ],
      "metadata": {
        "id": "vjCw5QRnxxOQ"
      },
      "execution_count": null,
      "outputs": []
    },
    {
      "cell_type": "code",
      "source": [
        "result=df.iloc[0:3,[2,6]]\n",
        "result"
      ],
      "metadata": {
        "id": "zPFBBGHFx_cL"
      },
      "execution_count": null,
      "outputs": []
    },
    {
      "cell_type": "code",
      "source": [
        "## 10.\tDisplay rows 2 through 5 (inclusive), columns in positions 0 through 2 (exclusive) of diamonds DataFrame"
      ],
      "metadata": {
        "id": "RHvRzd0gyLjh"
      },
      "execution_count": null,
      "outputs": []
    },
    {
      "cell_type": "code",
      "source": [
        "result=df.iloc[2:6,0:2]\n",
        "result"
      ],
      "metadata": {
        "id": "fy0gsv4fzE5w"
      },
      "execution_count": null,
      "outputs": []
    },
    {
      "cell_type": "code",
      "source": [
        "## 11.\tIdentify the columns with missing values"
      ],
      "metadata": {
        "id": "obCDyLx8zLwy"
      },
      "execution_count": null,
      "outputs": []
    },
    {
      "cell_type": "code",
      "source": [
        "df.isna().any()"
      ],
      "metadata": {
        "id": "KcmwWb3vzmqD"
      },
      "execution_count": null,
      "outputs": []
    },
    {
      "cell_type": "code",
      "source": [
        "## 12.\tDrop all the rows with missing values"
      ],
      "metadata": {
        "id": "aqpsl63Ez0h_"
      },
      "execution_count": null,
      "outputs": []
    },
    {
      "cell_type": "code",
      "source": [
        "df.dropna(axis=0)"
      ],
      "metadata": {
        "id": "YxaXst9Nz7tU"
      },
      "execution_count": null,
      "outputs": []
    },
    {
      "cell_type": "code",
      "source": [
        "## 13.\tDrop all columns with missing values"
      ],
      "metadata": {
        "id": "CQhkwaFLz_c3"
      },
      "execution_count": null,
      "outputs": []
    },
    {
      "cell_type": "code",
      "source": [
        "df.dropna(axis=1)"
      ],
      "metadata": {
        "id": "Voe2zn4u0S-8"
      },
      "execution_count": null,
      "outputs": []
    },
    {
      "cell_type": "code",
      "source": [
        "## 14.\tReplace all the missing values with "
      ],
      "metadata": {
        "id": "6TfOJ3ys0WPP"
      },
      "execution_count": null,
      "outputs": []
    },
    {
      "cell_type": "code",
      "source": [
        "## a) a specific value "
      ],
      "metadata": {
        "id": "th1tIdVu0Z_9"
      },
      "execution_count": null,
      "outputs": []
    },
    {
      "cell_type": "code",
      "source": [
        "df.fillna(0)"
      ],
      "metadata": {
        "id": "FdPz2zb41F2R"
      },
      "execution_count": null,
      "outputs": []
    },
    {
      "cell_type": "code",
      "source": [
        "## b)mean of the column ."
      ],
      "metadata": {
        "id": "nSPC2Z_J0brv"
      },
      "execution_count": null,
      "outputs": []
    },
    {
      "cell_type": "code",
      "source": [
        "data=df.fillna(df.mean())\n",
        "data"
      ],
      "metadata": {
        "id": "sf4JSHcO03fM"
      },
      "execution_count": null,
      "outputs": []
    },
    {
      "cell_type": "code",
      "source": [
        "## 15.\tNormalize the data using min-max normalization and write the updated dataframe to a different csv file"
      ],
      "metadata": {
        "id": "6r9_d28R04M6"
      },
      "execution_count": null,
      "outputs": []
    },
    {
      "cell_type": "code",
      "source": [
        "df1=df.iloc[:,[0,4,5,6,7,8,9]]\n",
        "df1"
      ],
      "metadata": {
        "id": "xVbkxNaYA2GM"
      },
      "execution_count": null,
      "outputs": []
    },
    {
      "cell_type": "code",
      "source": [
        "df_min_max_scaled = df1.copy()\n",
        "\n",
        "for column in df_min_max_scaled.columns:\n",
        "    df_min_max_scaled[column] = (df_min_max_scaled[column] - df_min_max_scaled[column].min()) / (df_min_max_scaled[column].max() - df_min_max_scaled[column].min())    \n",
        "\n",
        "print(df_min_max_scaled)"
      ],
      "metadata": {
        "id": "2KS1HpcY13_L"
      },
      "execution_count": null,
      "outputs": []
    },
    {
      "cell_type": "code",
      "source": [
        "df_min_max_scaled.to_csv('file1.csv')"
      ],
      "metadata": {
        "id": "k-GH5Msg9l7M"
      },
      "execution_count": null,
      "outputs": []
    },
    {
      "cell_type": "code",
      "source": [
        "pd.read_csv('file1.csv')"
      ],
      "metadata": {
        "id": "RJpPwIryDSPR"
      },
      "execution_count": null,
      "outputs": []
    },
    {
      "cell_type": "code",
      "source": [
        "## 16. Normalize the data using z-score normalization"
      ],
      "metadata": {
        "id": "5-fq1kAJGC3w"
      },
      "execution_count": null,
      "outputs": []
    },
    {
      "cell_type": "code",
      "source": [
        "df_z_scaled = df1.copy()\n",
        "  \n",
        "for column in df_z_scaled.columns:\n",
        "    df_z_scaled[column] = (df_z_scaled[column] -\n",
        "                           df_z_scaled[column].mean()) / df_z_scaled[column].std()    \n",
        "    \n",
        "print(df_z_scaled)"
      ],
      "metadata": {
        "id": "XtWtnUDIDvV9"
      },
      "execution_count": null,
      "outputs": []
    },
    {
      "cell_type": "code",
      "source": [],
      "metadata": {
        "id": "G8Q05_QXEr5Q"
      },
      "execution_count": null,
      "outputs": []
    }
  ]
}